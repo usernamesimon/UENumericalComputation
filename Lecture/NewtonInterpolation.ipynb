{
 "cells": [
  {
   "cell_type": "markdown",
   "metadata": {},
   "source": [
    "# Newton interpolation"
   ]
  },
  {
   "cell_type": "code",
   "execution_count": 130,
   "metadata": {},
   "outputs": [],
   "source": [
    "from math import pi,sin,cos\n",
    "import numpy as np\n",
    "import matplotlib.pyplot as plt"
   ]
  },
  {
   "cell_type": "code",
   "execution_count": 143,
   "metadata": {},
   "outputs": [],
   "source": [
    "def NewtonInterpol (pts, vals):\n",
    "    \"\"\"\n",
    "    Calculate coefficients of Newton interpol by \n",
    "    divided differences.\n",
    "    \n",
    "    input: \n",
    "       pts ... list of points\n",
    "       val ... list of values\n",
    "       \n",
    "    output: \n",
    "       divided differences\n",
    "    \"\"\"\n",
    "    \n",
    "    n = len(pts)-1\n",
    "    dd = np.asarray(vals)\n",
    "    for i in range(n):\n",
    "        for j in range(n, i, -1):\n",
    "            print (\"i =\",i, \", j =\",j)\n",
    "            dd[j] = (dd[j]-dd[j-1]) / (pts[j]-pts[j-i-1])\n",
    "    return dd"
   ]
  },
  {
   "cell_type": "code",
   "execution_count": 144,
   "metadata": {},
   "outputs": [],
   "source": [
    "def Horner (pts, dd, x):\n",
    "    \"\"\"\n",
    "    Horner scheme for polynomial evaluation in Newton basis\n",
    "    \"\"\"\n",
    "    n = len(pts)-1\n",
    "    sum = dd[n]\n",
    "    for i in range(n-1, -1, -1):\n",
    "        sum = sum * (x-pts[i]) + dd[i]\n",
    "    return sum"
   ]
  },
  {
   "cell_type": "code",
   "execution_count": 145,
   "metadata": {},
   "outputs": [
    {
     "name": "stdout",
     "output_type": "stream",
     "text": [
      "[ 0.          0.90031632 -0.33574887]\n"
     ]
    }
   ],
   "source": [
    "pts = [0, pi/4, pi/2]\n",
    "vals = [sin(p) for p in pts]\n",
    "dd = NewtonInterpol (pts, vals)\n",
    "print (dd)"
   ]
  },
  {
   "cell_type": "markdown",
   "metadata": {},
   "source": [
    "Checking interpolation points:"
   ]
  },
  {
   "cell_type": "code",
   "execution_count": 146,
   "metadata": {},
   "outputs": [
    {
     "name": "stdout",
     "output_type": "stream",
     "text": [
      "p= 0 val= 0.0 intpol= 0.0\n",
      "p= 0.7853981633974483 val= 0.7071067811865475 intpol= 0.7071067811865475\n",
      "p= 1.5707963267948966 val= 1.0 intpol= 1.0\n"
     ]
    }
   ],
   "source": [
    "for p,v in zip(pts, vals):\n",
    "    print (\"p=\",p, \"val=\", v, \"intpol=\", Horner(pts, dd, p))"
   ]
  },
  {
   "cell_type": "code",
   "execution_count": 147,
   "metadata": {},
   "outputs": [
    {
     "name": "stdout",
     "output_type": "stream",
     "text": [
      "Help on function NewtonInterpol in module __main__:\n",
      "\n",
      "NewtonInterpol(pts, vals)\n",
      "    Calculate coefficients of Newton interpol by \n",
      "    divided differences.\n",
      "    \n",
      "    input: \n",
      "       pts ... list of points\n",
      "       val ... list of values\n",
      "       \n",
      "    output: \n",
      "       divided differences\n",
      "\n"
     ]
    }
   ],
   "source": [
    "help (NewtonInterpol)"
   ]
  },
  {
   "cell_type": "markdown",
   "metadata": {},
   "source": [
    "# Using extrapolation for numerical differentiation\n",
    "\n",
    "\n",
    "forward difference quotient\n",
    "$$\n",
    "D(h) = \\frac{\\sin(x+h) - \\sin(x)}{h}\n",
    "$$"
   ]
  },
  {
   "cell_type": "code",
   "execution_count": 148,
   "metadata": {},
   "outputs": [],
   "source": [
    "def D(x, h): return (sin(x+h)-sin(x)) / h"
   ]
  },
  {
   "cell_type": "code",
   "execution_count": 149,
   "metadata": {},
   "outputs": [
    {
     "name": "stdout",
     "output_type": "stream",
     "text": [
      "[1, 0.5, 0.25, 0.125, 0.0625, 0.03125, 0.015625, 0.0078125]\n",
      "[0.0678264420177852, 0.3120480035923159, 0.4300545381907588, 0.4863728743295894, 0.5136632057467931, 0.5270674561467814, 0.5337064628577082, 0.5370098303297226]\n"
     ]
    }
   ],
   "source": [
    "pts = [2**-j for j in range(8)]\n",
    "print (pts)\n",
    "x = 1\n",
    "vals = [D(x,h) for h in pts]\n",
    "print (vals)"
   ]
  },
  {
   "cell_type": "code",
   "execution_count": 150,
   "metadata": {
    "scrolled": true
   },
   "outputs": [
    {
     "name": "stdout",
     "output_type": "stream",
     "text": [
      "0.5403023058681503\n",
      "cos(x) =  0.5403023058681398\n",
      "error =  -1.0547118733938987e-14\n"
     ]
    }
   ],
   "source": [
    "dd = NewtonInterpol (pts, vals)\n",
    "print (Horner(pts, dd, 0))\n",
    "print (\"cos(x) = \", cos(x))\n",
    "print (\"error = \", cos(x)-Horner(pts, dd, 0))"
   ]
  },
  {
   "cell_type": "markdown",
   "metadata": {},
   "source": [
    "# Generating a convergence plot"
   ]
  },
  {
   "cell_type": "code",
   "execution_count": 159,
   "metadata": {},
   "outputs": [
    {
     "name": "stdout",
     "output_type": "stream",
     "text": [
      "[0.47247586385035456, 0.015967259298706793, 0.005022602795180298, 3.2999835479330386e-05, 1.2888650569031768e-06, 1.921437675633797e-09, 1.1040945935292257e-11, 1.0547118733938987e-14, 1.709743457922741e-14, 7.327471962526033e-15]\n"
     ]
    }
   ],
   "source": [
    "x = 1\n",
    "\n",
    "errors = []\n",
    "for n in range(1, 11):\n",
    "    pts = [2**-j for j in range(n)]\n",
    "    vals = [D(x,h) for h in pts]\n",
    "    dd = NewtonInterpol (pts, vals)\n",
    "    err = cos(x)-Horner(pts, dd, 0)\n",
    "    errors.append (abs(err))\n",
    "print (errors)"
   ]
  },
  {
   "cell_type": "code",
   "execution_count": 169,
   "metadata": {},
   "outputs": [
    {
     "data": {
      "text/plain": [
       "[<matplotlib.lines.Line2D at 0x7fa8f02171f0>]"
      ]
     },
     "execution_count": 169,
     "metadata": {},
     "output_type": "execute_result"
    },
    {
     "data": {
      "image/png": "[encoded data removed]",
      "text/plain": [
       "<Figure size 432x288 with 1 Axes>"
      ]
     },
     "metadata": {
      "needs_background": "light"
     },
     "output_type": "display_data"
    }
   ],
   "source": [
    "plt.yscale(\"log\")\n",
    "plt.xlabel(\"points\")\n",
    "plt.ylabel(\"error\")\n",
    "plt.plot (range(1,len(errors)+1), errors, \"-x\")"
   ]
  },
  {
   "cell_type": "code",
   "execution_count": null,
   "metadata": {},
   "outputs": [],
   "source": []
  },
  {
   "cell_type": "code",
   "execution_count": null,
   "metadata": {},
   "outputs": [],
   "source": []
  }
 ],
 "metadata": {
  "kernelspec": {
   "display_name": "Python 3",
   "language": "python",
   "name": "python3"
  },
  "language_info": {
   "codemirror_mode": {
    "name": "ipython",
    "version": 3
   },
   "file_extension": ".py",
   "mimetype": "text/x-python",
   "name": "python",
   "nbconvert_exporter": "python",
   "pygments_lexer": "ipython3",
   "version": "3.5.3"
  }
 },
 "nbformat": 4,
 "nbformat_minor": 2
}

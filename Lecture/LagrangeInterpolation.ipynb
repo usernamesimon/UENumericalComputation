{
 "cells": [
  {
   "cell_type": "markdown",
   "metadata": {},
   "source": [
    "# Lagrange interpolation"
   ]
  },
  {
   "cell_type": "code",
   "execution_count": null,
   "metadata": {
    "scrolled": true
   },
   "outputs": [],
   "source": [
    "from math import pi\n",
    "from numpy import sin, linspace\n",
    "import matplotlib.pyplot as plt\n",
    "\n",
    "a,b = 0, pi/2\n",
    "x = linspace(a,b,21)\n",
    "y = sin(x)\n",
    "print (\"x=\",x)\n",
    "print (\"y=\",y)\n",
    "print (\"type(y)=\", type(y))"
   ]
  },
  {
   "cell_type": "code",
   "execution_count": null,
   "metadata": {
    "scrolled": true
   },
   "outputs": [],
   "source": [
    "plt.plot (x, sin(x), \"-\")"
   ]
  },
  {
   "cell_type": "markdown",
   "metadata": {},
   "source": [
    "i-th Lagrange polynomial to points pts, evaluated at x:"
   ]
  },
  {
   "cell_type": "code",
   "execution_count": null,
   "metadata": {},
   "outputs": [],
   "source": [
    "def Lagrange (pts, i, x):\n",
    "    prod = 1\n",
    "    for j in range(len(pts)):\n",
    "        if j != i:\n",
    "            prod = prod * (x-pts[j])/(pts[i]-pts[j])\n",
    "    return prod"
   ]
  },
  {
   "cell_type": "code",
   "execution_count": null,
   "metadata": {},
   "outputs": [],
   "source": [
    "pts = [0, pi/4, pi/2]\n",
    "print (\"L0(0.2) =\", Lagrange(pts, 0, 0.2))\n",
    "\n",
    "print (\"L0(xi) =\", Lagrange(pts, 0, x))"
   ]
  },
  {
   "cell_type": "code",
   "execution_count": null,
   "metadata": {},
   "outputs": [],
   "source": [
    "plt.plot (x, Lagrange(pts, 0, x), x, Lagrange(pts, 1, x), x, Lagrange(pts, 2, x))"
   ]
  },
  {
   "cell_type": "code",
   "execution_count": null,
   "metadata": {},
   "outputs": [],
   "source": [
    "def InterpolationPolynomial (fun, pts, x):\n",
    "    sum = 0\n",
    "    for i in range(len(pts)):\n",
    "        sum = sum + fun(pts[i]) * Lagrange(pts, i, x)\n",
    "    return sum"
   ]
  },
  {
   "cell_type": "code",
   "execution_count": null,
   "metadata": {},
   "outputs": [],
   "source": [
    "def InterpolationPolynomial (fun, pts, x):\n",
    "     return sum( [fun(p) * Lagrange(pts, i, x) for i,p in enumerate(pts)] )"
   ]
  },
  {
   "cell_type": "code",
   "execution_count": null,
   "metadata": {},
   "outputs": [],
   "source": [
    "pts = linspace(a,b,4)\n",
    "plt.plot (x, sin(x), x, InterpolationPolynomial(sin, pts, x), pts, sin(pts), \"x\")"
   ]
  },
  {
   "cell_type": "code",
   "execution_count": null,
   "metadata": {},
   "outputs": [],
   "source": [
    "plt.plot (x, sin(x)-InterpolationPolynomial(sin, linspace(a,b,3), x))"
   ]
  },
  {
   "cell_type": "code",
   "execution_count": null,
   "metadata": {},
   "outputs": [],
   "source": []
  }
 ],
 "metadata": {
  "kernelspec": {
   "display_name": "Python 3",
   "language": "python",
   "name": "python3"
  },
  "language_info": {
   "codemirror_mode": {
    "name": "ipython",
    "version": 3
   },
   "file_extension": ".py",
   "mimetype": "text/x-python",
   "name": "python",
   "nbconvert_exporter": "python",
   "pygments_lexer": "ipython3",
   "version": "3.5.3"
  }
 },
 "nbformat": 4,
 "nbformat_minor": 2
}
